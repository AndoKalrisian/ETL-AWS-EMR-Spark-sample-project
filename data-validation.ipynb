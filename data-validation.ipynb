{
 "cells": [
  {
   "cell_type": "code",
   "execution_count": 2,
   "metadata": {},
   "outputs": [
    {
     "data": {
      "application/vnd.jupyter.widget-view+json": {
       "model_id": "787dcad7be074a55ac80aa0dfdfd680a",
       "version_major": 2,
       "version_minor": 0
      },
      "text/plain": [
       "VBox()"
      ]
     },
     "metadata": {},
     "output_type": "display_data"
    },
    {
     "data": {
      "application/vnd.jupyter.widget-view+json": {
       "model_id": "",
       "version_major": 2,
       "version_minor": 0
      },
      "text/plain": [
       "FloatProgress(value=0.0, bar_style='info', description='Progress:', layout=Layout(height='25px', width='50%'),…"
      ]
     },
     "metadata": {},
     "output_type": "display_data"
    }
   ],
   "source": [
    "#from pyspark.sql import functions as F"
   ]
  },
  {
   "cell_type": "code",
   "execution_count": 3,
   "metadata": {},
   "outputs": [
    {
     "data": {
      "application/vnd.jupyter.widget-view+json": {
       "model_id": "e27a5949143244d8934750014340fb47",
       "version_major": 2,
       "version_minor": 0
      },
      "text/plain": [
       "VBox()"
      ]
     },
     "metadata": {},
     "output_type": "display_data"
    },
    {
     "data": {
      "application/vnd.jupyter.widget-view+json": {
       "model_id": "",
       "version_major": 2,
       "version_minor": 0
      },
      "text/plain": [
       "FloatProgress(value=0.0, bar_style='info', description='Progress:', layout=Layout(height='25px', width='50%'),…"
      ]
     },
     "metadata": {},
     "output_type": "display_data"
    }
   ],
   "source": [
    "def test_query(input):\n",
    "    data = spark.read.parquet(input)\n",
    "    data.printSchema()\n",
    "    data.createOrReplaceTempView('table')\n",
    "    data_sample = spark.sql('''SELECT *\n",
    "                               FROM table''').show()"
   ]
  },
  {
   "cell_type": "code",
   "execution_count": 4,
   "metadata": {},
   "outputs": [
    {
     "data": {
      "application/vnd.jupyter.widget-view+json": {
       "model_id": "68a5624dbe69470aaecbc212e488e182",
       "version_major": 2,
       "version_minor": 0
      },
      "text/plain": [
       "VBox()"
      ]
     },
     "metadata": {},
     "output_type": "display_data"
    },
    {
     "data": {
      "application/vnd.jupyter.widget-view+json": {
       "model_id": "",
       "version_major": 2,
       "version_minor": 0
      },
      "text/plain": [
       "FloatProgress(value=0.0, bar_style='info', description='Progress:', layout=Layout(height='25px', width='50%'),…"
      ]
     },
     "metadata": {},
     "output_type": "display_data"
    },
    {
     "name": "stdout",
     "output_type": "stream",
     "text": [
      "root\n",
      " |-- artist_id: string (nullable = true)\n",
      " |-- name: string (nullable = true)\n",
      " |-- location: string (nullable = true)\n",
      " |-- latitude: double (nullable = true)\n",
      " |-- longitude: double (nullable = true)\n",
      "\n",
      "+------------------+--------------------+------------------+---------+----------+\n",
      "|         artist_id|                name|          location| latitude| longitude|\n",
      "+------------------+--------------------+------------------+---------+----------+\n",
      "|AR3WLE91187B99430A|              Staind|   Springfield, MA| 42.10125| -72.58929|\n",
      "|ARGMRRK1187FB5BE1F|Dean Elliott And ...|                  |     null|      null|\n",
      "|ARHFP9P1187FB44A90|         Look Mexico|   Tallahassee, FL| 30.43977| -84.28065|\n",
      "|ARBVASN1187B9890CB|Lucky Boys Confusion|       Chicago, IL|     null|      null|\n",
      "|ARIUHYM1187B9AEAE4|   Ultimate Fakebook| Manhattan, Kansas| 39.17881| -96.56183|\n",
      "|ARZHCKQ1187B9BA5BA|Jazzanova / Paul ...|   Berlin, Germany| 52.51607|  13.37698|\n",
      "|ARYNUG411A348F0720|     E For Explosion|       Guthrie, KY| 36.64849| -87.16633|\n",
      "|ARYJSY01187B9B7C65|Dolly Parton with...|  Locust Ridge, TN|     null|      null|\n",
      "|AR46CAD1187FB4D84B|        Bad Religion|   Los Angeles, Ca| 34.05349|-118.24532|\n",
      "|ARB02JG1187FB5B124|          Subliminal|   California - SF| 37.77916|-122.42005|\n",
      "|ARBHCP31187FB4D417|Antony & The John...|New York, New York|     null|      null|\n",
      "|ARNEWMP1187FB3DB31|       Horace Silver|       Norwalk, CT| 41.11366| -73.40765|\n",
      "|ARTK29M1187B989F07|   River City Rebels|    Burlington, VT| 44.47592| -73.21323|\n",
      "|ARR76SY1187B9AD510|Kings Of Convenience|    Bergen, Norway|  60.3907|   5.33275|\n",
      "|ARKZPHN1187B9B76CF|         Yerba Buena|         Bronx, NY| 40.85715| -73.85678|\n",
      "|ART34JR1187B9A7348|             Azymuth|            Brazil|-14.24292| -54.38783|\n",
      "|ARDX3GM1187B9AB417|       Kraak & Smaak|Leden, Netherlands| 52.15457|   4.49463|\n",
      "|AREJXK41187B9A4ACC|             Raphaël|            France| 46.71067|   1.71819|\n",
      "|ARL3VGT1187FB40E8E|Los Fabulosos Cad...|     Buenos Aires.|-34.60852| -58.37354|\n",
      "|ARB7MOO1187FB3DDAA|     Siniestro Total|                  |     null|      null|\n",
      "+------------------+--------------------+------------------+---------+----------+\n",
      "only showing top 20 rows"
     ]
    }
   ],
   "source": [
    "test_query(\"s3n://de-nano-project-4/output/artists_table.parquet\")"
   ]
  },
  {
   "cell_type": "code",
   "execution_count": 5,
   "metadata": {},
   "outputs": [
    {
     "data": {
      "application/vnd.jupyter.widget-view+json": {
       "model_id": "b7d0c29ed13241dab2ea77def667e675",
       "version_major": 2,
       "version_minor": 0
      },
      "text/plain": [
       "VBox()"
      ]
     },
     "metadata": {},
     "output_type": "display_data"
    },
    {
     "data": {
      "application/vnd.jupyter.widget-view+json": {
       "model_id": "",
       "version_major": 2,
       "version_minor": 0
      },
      "text/plain": [
       "FloatProgress(value=0.0, bar_style='info', description='Progress:', layout=Layout(height='25px', width='50%'),…"
      ]
     },
     "metadata": {},
     "output_type": "display_data"
    },
    {
     "name": "stdout",
     "output_type": "stream",
     "text": [
      "root\n",
      " |-- songplay_id: string (nullable = true)\n",
      " |-- start_time: long (nullable = true)\n",
      " |-- user_id: string (nullable = true)\n",
      " |-- level: string (nullable = true)\n",
      " |-- song_id: string (nullable = true)\n",
      " |-- artist_id: string (nullable = true)\n",
      " |-- session_id: long (nullable = true)\n",
      " |-- location: string (nullable = true)\n",
      " |-- user_agent: string (nullable = true)\n",
      "\n",
      "+-----------------+-------------+-------+-----+------------------+------------------+----------+--------------------+--------------------+\n",
      "|      songplay_id|   start_time|user_id|level|           song_id|         artist_id|session_id|            location|          user_agent|\n",
      "+-----------------+-------------+-------+-----+------------------+------------------+----------+--------------------+--------------------+\n",
      "|1542136279796-537|1542136279796|     97| paid|SOQSYGY12A8C137E0F|AROF4LP1187FB41C51|       537|Lansing-East Lans...|\"Mozilla/5.0 (X11...|\n",
      "|1542136279796-537|1542136279796|     97| paid|SOQSYGY12A8C137E0F|AROF4LP1187FB41C51|       537|Lansing-East Lans...|\"Mozilla/5.0 (X11...|\n",
      "|1542136279796-537|1542136279796|     97| paid|SOQSYGY12A8C137E0F|AROF4LP1187FB41C51|       537|Lansing-East Lans...|\"Mozilla/5.0 (X11...|\n",
      "|1542136279796-537|1542136279796|     97| paid|SOQSYGY12A8C137E0F|AROF4LP1187FB41C51|       537|Lansing-East Lans...|\"Mozilla/5.0 (X11...|\n",
      "|1542136279796-537|1542136279796|     97| paid|SOQSYGY12A8C137E0F|AROF4LP1187FB41C51|       537|Lansing-East Lans...|\"Mozilla/5.0 (X11...|\n",
      "|1542136279796-537|1542136279796|     97| paid|SOQSYGY12A8C137E0F|AROF4LP1187FB41C51|       537|Lansing-East Lans...|\"Mozilla/5.0 (X11...|\n",
      "|1541440472796-147|1541440472796|     97| paid|SOWEFTO12A3F1EB976|ARPN0Y61187B9ABAA0|       147|Lansing-East Lans...|\"Mozilla/5.0 (X11...|\n",
      "|1542293623796-605|1542293623796|     97| paid|SOWEFTO12A3F1EB976|ARPN0Y61187B9ABAA0|       605|Lansing-East Lans...|\"Mozilla/5.0 (X11...|\n",
      "|1541440472796-147|1541440472796|     97| paid|SOWEFTO12A3F1EB976|ARPN0Y61187B9ABAA0|       147|Lansing-East Lans...|\"Mozilla/5.0 (X11...|\n",
      "|1542293623796-605|1542293623796|     97| paid|SOWEFTO12A3F1EB976|ARPN0Y61187B9ABAA0|       605|Lansing-East Lans...|\"Mozilla/5.0 (X11...|\n",
      "|1541440472796-147|1541440472796|     97| paid|SOWEFTO12A3F1EB976|ARPN0Y61187B9ABAA0|       147|Lansing-East Lans...|\"Mozilla/5.0 (X11...|\n",
      "|1542293623796-605|1542293623796|     97| paid|SOWEFTO12A3F1EB976|ARPN0Y61187B9ABAA0|       605|Lansing-East Lans...|\"Mozilla/5.0 (X11...|\n",
      "|1541440472796-147|1541440472796|     97| paid|SOWEFTO12A3F1EB976|ARPN0Y61187B9ABAA0|       147|Lansing-East Lans...|\"Mozilla/5.0 (X11...|\n",
      "|1542293623796-605|1542293623796|     97| paid|SOWEFTO12A3F1EB976|ARPN0Y61187B9ABAA0|       605|Lansing-East Lans...|\"Mozilla/5.0 (X11...|\n",
      "|1541440472796-147|1541440472796|     97| paid|SOWEFTO12A3F1EB976|ARPN0Y61187B9ABAA0|       147|Lansing-East Lans...|\"Mozilla/5.0 (X11...|\n",
      "|1542293623796-605|1542293623796|     97| paid|SOWEFTO12A3F1EB976|ARPN0Y61187B9ABAA0|       605|Lansing-East Lans...|\"Mozilla/5.0 (X11...|\n",
      "|1541440472796-147|1541440472796|     97| paid|SOWEFTO12A3F1EB976|ARPN0Y61187B9ABAA0|       147|Lansing-East Lans...|\"Mozilla/5.0 (X11...|\n",
      "|1542293623796-605|1542293623796|     97| paid|SOWEFTO12A3F1EB976|ARPN0Y61187B9ABAA0|       605|Lansing-East Lans...|\"Mozilla/5.0 (X11...|\n",
      "|1542378072796-436|1542378072796|     85| paid|SOLRYQR12A670215BF|ARNLO5S1187B9B80CC|       436|       Red Bluff, CA|\"Mozilla/5.0 (Mac...|\n",
      "|1542378072796-436|1542378072796|     85| paid|SOLRYQR12A670215BF|ARNLO5S1187B9B80CC|       436|       Red Bluff, CA|\"Mozilla/5.0 (Mac...|\n",
      "+-----------------+-------------+-------+-----+------------------+------------------+----------+--------------------+--------------------+\n",
      "only showing top 20 rows"
     ]
    }
   ],
   "source": [
    "test_query(\"s3n://de-nano-project-4/output/songplays_table.parquet\")"
   ]
  },
  {
   "cell_type": "code",
   "execution_count": 6,
   "metadata": {},
   "outputs": [
    {
     "data": {
      "application/vnd.jupyter.widget-view+json": {
       "model_id": "62abe31ff7ec4668aca3a6601ea4e9a8",
       "version_major": 2,
       "version_minor": 0
      },
      "text/plain": [
       "VBox()"
      ]
     },
     "metadata": {},
     "output_type": "display_data"
    },
    {
     "data": {
      "application/vnd.jupyter.widget-view+json": {
       "model_id": "",
       "version_major": 2,
       "version_minor": 0
      },
      "text/plain": [
       "FloatProgress(value=0.0, bar_style='info', description='Progress:', layout=Layout(height='25px', width='50%'),…"
      ]
     },
     "metadata": {},
     "output_type": "display_data"
    },
    {
     "name": "stdout",
     "output_type": "stream",
     "text": [
      "root\n",
      " |-- song_id: string (nullable = true)\n",
      " |-- title: string (nullable = true)\n",
      " |-- artist_id: string (nullable = true)\n",
      " |-- year: long (nullable = true)\n",
      " |-- duration: double (nullable = true)\n",
      "\n",
      "+------------------+--------------------+------------------+----+---------+\n",
      "|           song_id|               title|         artist_id|year| duration|\n",
      "+------------------+--------------------+------------------+----+---------+\n",
      "|SOXPFIY12A8C13945E|Only One Forever ...|ARTL0JQ1187FB4D190|2001|202.97098|\n",
      "|SOBWPYK12AB017FF52|Let's Make A Mystery|ARBW7IC1187B9908CE|1991|301.29587|\n",
      "|SOVHTFX12AC4688BF8|Youth_ Speed_ Tro...|ARCGHBU1187FB4B637|   0|236.43383|\n",
      "|SOAVWUZ12A8C142B45|Take Your Time fe...|ARNE16X1187B9B2DEE|   0|193.64526|\n",
      "|SOSIMGO12A6D4FB491|She Came Along To...|ARJ7SQ31187B9AF432|   0|207.98649|\n",
      "|SOAHAEF12AB017E6A5|         I'm In Love|ARXK4YK1187FB4D0C4|   0|333.21751|\n",
      "|SOHBLHT12AB018E5B5|Do You Think Dall...|AREIGVJ1187FB3C4E8|2006|203.44118|\n",
      "|SOGFCGN12AF72A7344|      Open Your Mind|ARYLKRH1187B98AC77|2007|114.93832|\n",
      "|SOTTQYI12AB01900D1| The Perfect Pervert|AR9LB2W1187FB4B3D7|2009|266.55302|\n",
      "|SOVGJSO12A6D4F80AA|I Can Tell You An...|AR3GYSX1187B98D2FF|1997|  215.562|\n",
      "|SOWVRFN12A6D4F7452|If I Ever [extend...|AR5RRCY1187FB46F7F|   0| 305.8673|\n",
      "|SOKWQCX12AF729F29A|         Old Friends|ARIWB161187B9AA1D5|1968|130.76853|\n",
      "|SOFCMUP12A8C133222|I Feel Everything...|AR83LT51187FB3E073|2008|188.83873|\n",
      "|SOMTIYC12A8C13C1A7|El Chuico Y La Da...|ARF63H31187B99B9FB|2006|135.70567|\n",
      "|SOSPINI12A8C1376B9|The Telemann Expe...|AR2OGF01187FB49409|2004|427.41506|\n",
      "|SOYKMMD12A58A81830|      Still The Lamb|ARZ9HDR1187B99736C|   0|318.79791|\n",
      "|SOEXYGK12A58A7AB3F|ME GUSTARIA QUE C...|ARGM4PB1187FB3DEFB|2002|246.09914|\n",
      "|SOBYTDB12AB01847E9|Annie Don't Love ...|ARYH5W21187B9924C7|1994|124.08118|\n",
      "|SOLBKRX12A6D4FCDB8|Will My Mother Kn...|ARE0IIF1187FB5B1AC|   0|183.95383|\n",
      "|SOBHIRQ12A6D4F859A|When You Wasn't F...|ARIHE7O1187FB47DED|   0|213.26322|\n",
      "+------------------+--------------------+------------------+----+---------+\n",
      "only showing top 20 rows"
     ]
    }
   ],
   "source": [
    "test_query(\"s3n://de-nano-project-4/output/songs_table.parquet\")"
   ]
  },
  {
   "cell_type": "code",
   "execution_count": 7,
   "metadata": {},
   "outputs": [
    {
     "data": {
      "application/vnd.jupyter.widget-view+json": {
       "model_id": "bcd26108730c4b76a1db2f72d57d88f5",
       "version_major": 2,
       "version_minor": 0
      },
      "text/plain": [
       "VBox()"
      ]
     },
     "metadata": {},
     "output_type": "display_data"
    },
    {
     "data": {
      "application/vnd.jupyter.widget-view+json": {
       "model_id": "",
       "version_major": 2,
       "version_minor": 0
      },
      "text/plain": [
       "FloatProgress(value=0.0, bar_style='info', description='Progress:', layout=Layout(height='25px', width='50%'),…"
      ]
     },
     "metadata": {},
     "output_type": "display_data"
    },
    {
     "name": "stdout",
     "output_type": "stream",
     "text": [
      "root\n",
      " |-- start_time: float (nullable = true)\n",
      " |-- datetime: string (nullable = true)\n",
      " |-- hour: string (nullable = true)\n",
      " |-- day: string (nullable = true)\n",
      " |-- week: string (nullable = true)\n",
      " |-- month: string (nullable = true)\n",
      " |-- year: string (nullable = true)\n",
      " |-- weekday: string (nullable = true)\n",
      "\n",
      "+----------+--------+----+----+----+-----+----+-------+\n",
      "|start_time|datetime|hour| day|week|month|year|weekday|\n",
      "+----------+--------+----+----+----+-----+----+-------+\n",
      "|      null|    null|null|null|null| null|null|   null|\n",
      "+----------+--------+----+----+----+-----+----+-------+"
     ]
    }
   ],
   "source": [
    "test_query(\"s3n://de-nano-project-4/output/time_table.parquet\")"
   ]
  },
  {
   "cell_type": "code",
   "execution_count": 8,
   "metadata": {},
   "outputs": [
    {
     "data": {
      "application/vnd.jupyter.widget-view+json": {
       "model_id": "1276f4dc3f4c4766a7e5c7cfdf48f798",
       "version_major": 2,
       "version_minor": 0
      },
      "text/plain": [
       "VBox()"
      ]
     },
     "metadata": {},
     "output_type": "display_data"
    },
    {
     "data": {
      "application/vnd.jupyter.widget-view+json": {
       "model_id": "",
       "version_major": 2,
       "version_minor": 0
      },
      "text/plain": [
       "FloatProgress(value=0.0, bar_style='info', description='Progress:', layout=Layout(height='25px', width='50%'),…"
      ]
     },
     "metadata": {},
     "output_type": "display_data"
    },
    {
     "name": "stdout",
     "output_type": "stream",
     "text": [
      "root\n",
      " |-- userId: string (nullable = true)\n",
      " |-- firstName: string (nullable = true)\n",
      " |-- lastName: string (nullable = true)\n",
      " |-- gender: string (nullable = true)\n",
      " |-- level: string (nullable = true)\n",
      "\n",
      "+------+----------+--------+------+-----+\n",
      "|userId| firstName|lastName|gender|level|\n",
      "+------+----------+--------+------+-----+\n",
      "|    14|  Theodore|  Harris|     M| free|\n",
      "|    55|    Martin| Johnson|     M| free|\n",
      "|    17|  Makinley|   Jones|     F| free|\n",
      "|    29|Jacqueline|   Lynch|     F| free|\n",
      "|    64|    Hannah| Calhoun|     F| free|\n",
      "|    52|  Theodore|   Smith|     M| free|\n",
      "|    66|     Kevin|Arellano|     M| free|\n",
      "|    65|     Amiya|Davidson|     F| paid|\n",
      "|    42|    Harper| Barrett|     M| paid|\n",
      "|    40|    Tucker|Garrison|     M| free|\n",
      "|    28|  Brantley|    West|     M| free|\n",
      "|     7|    Adelyn|  Jordan|     F| free|\n",
      "|    16|     Rylan|  George|     M| free|\n",
      "|    90|    Andrea|  Butler|     F| free|\n",
      "|    36|   Matthew|   Jones|     M| free|\n",
      "|    72|    Hayden|   Brock|     F| paid|\n",
      "|    89|   Kynnedi| Sanchez|     F| free|\n",
      "|    61|    Samuel|Gonzalez|     M| free|\n",
      "|    45|  Dominick|  Norris|     M| free|\n",
      "|     2|   Jizelle|Benjamin|     F| free|\n",
      "+------+----------+--------+------+-----+\n",
      "only showing top 20 rows"
     ]
    }
   ],
   "source": [
    "test_query(\"s3n://de-nano-project-4/output/users_table.parquet\")"
   ]
  }
 ],
 "metadata": {
  "kernelspec": {
   "display_name": "PySpark",
   "language": "",
   "name": "pysparkkernel"
  },
  "language_info": {
   "codemirror_mode": {
    "name": "python",
    "version": 2
   },
   "mimetype": "text/x-python",
   "name": "pyspark",
   "pygments_lexer": "python2"
  }
 },
 "nbformat": 4,
 "nbformat_minor": 2
}
